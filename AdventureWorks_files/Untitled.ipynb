{
 "cells": [
  {
   "cell_type": "code",
   "execution_count": 4,
   "id": "3bb84ed5",
   "metadata": {},
   "outputs": [],
   "source": [
    "import pandas as pd "
   ]
  },
  {
   "cell_type": "code",
   "execution_count": 22,
   "id": "17092649",
   "metadata": {},
   "outputs": [],
   "source": [
    "file1 = pd.read_csv('./AdventureWorks_Sales_2019_test.csv')\n",
    "file2 = pd.read_csv('./AdventureWorks_Sales_2020_test.csv')\n",
    "file3 = pd.read_csv('./AdventureWorks_Sales_2021_test.csv')"
   ]
  },
  {
   "cell_type": "code",
   "execution_count": 23,
   "id": "fb4e6695",
   "metadata": {},
   "outputs": [],
   "source": [
    "frames = [file1, file2, file3]\n",
    "result = pd.concat(frames)"
   ]
  },
  {
   "cell_type": "code",
   "execution_count": 26,
   "id": "d53888e6",
   "metadata": {},
   "outputs": [],
   "source": [
    "file_name = 'AdventureWorks_Sales_All_test.xlsx'\n",
    "result.to_excel(file_name)"
   ]
  },
  {
   "cell_type": "code",
   "execution_count": null,
   "id": "ba57b0f8",
   "metadata": {},
   "outputs": [],
   "source": []
  }
 ],
 "metadata": {
  "kernelspec": {
   "display_name": "Python 3",
   "language": "python",
   "name": "python3"
  },
  "language_info": {
   "codemirror_mode": {
    "name": "ipython",
    "version": 3
   },
   "file_extension": ".py",
   "mimetype": "text/x-python",
   "name": "python",
   "nbconvert_exporter": "python",
   "pygments_lexer": "ipython3",
   "version": "3.8.8"
  }
 },
 "nbformat": 4,
 "nbformat_minor": 5
}
